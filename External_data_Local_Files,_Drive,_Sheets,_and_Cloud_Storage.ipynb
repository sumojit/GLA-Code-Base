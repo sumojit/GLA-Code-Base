{
  "cells": [
    {
      "cell_type": "markdown",
      "metadata": {
        "id": "view-in-github",
        "colab_type": "text"
      },
      "source": [
        "<a href=\"https://colab.research.google.com/github/sumojit/GLA-Code-Base/blob/master/External_data_Local_Files%2C_Drive%2C_Sheets%2C_and_Cloud_Storage.ipynb\" target=\"_parent\"><img src=\"https://colab.research.google.com/assets/colab-badge.svg\" alt=\"Open In Colab\"/></a>"
      ]
    },
    {
      "cell_type": "markdown",
      "metadata": {
        "id": "7Z2jcRKwUHqV"
      },
      "source": [
        "This notebook provides recipes for loading and saving data from external sources."
      ]
    },
    {
      "cell_type": "markdown",
      "metadata": {
        "id": "eikfzi8ZT_rW"
      },
      "source": [
        "# Local file system"
      ]
    },
    {
      "cell_type": "markdown",
      "metadata": {
        "id": "BaCkyg5CV5jF"
      },
      "source": [
        "## Uploading files from your local file system\n",
        "\n",
        "`files.upload` returns a dictionary of the files which were uploaded.\n",
        "The dictionary is keyed by the file name and values are the data which were uploaded."
      ]
    },
    {
      "cell_type": "code",
      "execution_count": null,
      "metadata": {
        "id": "vz-jH8T_Uk2c"
      },
      "outputs": [],
      "source": [
        "from google.colab import files\n",
        "\n",
        "uploaded = files.upload()\n",
        "\n",
        "for fn in uploaded.keys():\n",
        "  print('User uploaded file \"{name}\" with length {length} bytes'.format(\n",
        "      name=fn, length=len(uploaded[fn])))"
      ]
    },
    {
      "cell_type": "markdown",
      "metadata": {
        "id": "hauvGV4hV-Mh"
      },
      "source": [
        "## Downloading files to your local file system\n",
        "\n",
        "`files.download` will invoke a browser download of the file to your local computer.\n"
      ]
    },
    {
      "cell_type": "code",
      "execution_count": null,
      "metadata": {
        "id": "p2E4EKhCWEC5"
      },
      "outputs": [],
      "source": [
        "from google.colab import files\n",
        "\n",
        "with open('example.txt', 'w') as f:\n",
        "  f.write('some content')\n",
        "\n",
        "files.download('example.txt')"
      ]
    },
    {
      "cell_type": "markdown",
      "metadata": {
        "id": "c2W5A2px3doP"
      },
      "source": [
        "# Google Drive\n",
        "\n",
        "You can access files in Drive in a number of ways, including:\n",
        "- Mounting your Google Drive in the runtime's virtual machine\n",
        "- Using a wrapper around the API such as [PyDrive2](https://docs.iterative.ai/PyDrive2/)\n",
        "- Using the [native REST API](https://developers.google.com/drive/v3/web/about-sdk)\n",
        "\n",
        "\n",
        "\n",
        "Examples of each are below."
      ]
    },
    {
      "cell_type": "markdown",
      "metadata": {
        "id": "u22w3BFiOveA"
      },
      "source": [
        "## Mounting Google Drive locally\n",
        "\n",
        "The example below shows how to mount your Google Drive on your runtime using an authorization code, and how to write and read files there. Once executed, you will be able to see the new file (`foo.txt`) at [https://drive.google.com/](https://drive.google.com/).\n",
        "\n",
        "This only supports reading, writing, and moving files; to programmatically modify sharing settings or other metadata, use one of the other options below.\n",
        "\n",
        "**Note:** When using the 'Mount Drive' button in the file browser, no authentication codes are necessary for notebooks that have only been edited by the current user."
      ]
    },
    {
      "cell_type": "code",
      "execution_count": null,
      "metadata": {
        "colab": {
          "base_uri": "https://localhost:8080/",
          "height": 109
        },
        "id": "RWSJpsyKqHjH",
        "outputId": "15bd239f-5a6a-447d-dd22-01ee5398b991"
      },
      "outputs": [
        {
          "name": "stdout",
          "output_type": "stream",
          "text": [
            "Go to this URL in a browser: https://accounts.google.com/o/oauth2/auth?client_id=947318989803-6bn6qk8qdgf4n4g3pfee6491hc0brc4i.apps.googleusercontent.com&redirect_uri=urn%3Aietf%3Awg%3Aoauth%3A2.0%3Aoob&scope=email%20https%3A%2F%2Fwww.googleapis.com%2Fauth%2Fdocs.test%20https%3A%2F%2Fwww.googleapis.com%2Fauth%2Fdrive%20https%3A%2F%2Fwww.googleapis.com%2Fauth%2Fdrive.photos.readonly%20https%3A%2F%2Fwww.googleapis.com%2Fauth%2Fpeopleapi.readonly&response_type=code\n",
            "Enter your authorization code:\n",
            "··········\n",
            "Mounted at /content/drive\n"
          ]
        }
      ],
      "source": [
        "from google.colab import drive\n",
        "drive.mount('/content/drive')"
      ]
    },
    {
      "cell_type": "code",
      "execution_count": null,
      "metadata": {
        "colab": {
          "base_uri": "https://localhost:8080/",
          "height": 35
        },
        "id": "XDg9OBaYqRMd",
        "outputId": "5df8b65d-20d2-4956-b8a7-e99d4579d567"
      },
      "outputs": [
        {
          "name": "stdout",
          "output_type": "stream",
          "text": [
            "Hello Google Drive!"
          ]
        }
      ],
      "source": [
        "with open('/content/drive/My Drive/foo.txt', 'w') as f:\n",
        "  f.write('Hello Google Drive!')\n",
        "!cat /content/drive/My\\ Drive/foo.txt"
      ]
    },
    {
      "cell_type": "code",
      "execution_count": null,
      "metadata": {
        "colab": {
          "base_uri": "https://localhost:8080/",
          "height": 34
        },
        "id": "D78AM1fFt2ty",
        "outputId": "f7117bc5-2ffd-4c0a-8809-f9fed79b4682"
      },
      "outputs": [
        {
          "name": "stdout",
          "output_type": "stream",
          "text": [
            "All changes made in this colab session should now be visible in Drive.\n"
          ]
        }
      ],
      "source": [
        "drive.flush_and_unmount()\n",
        "print('All changes made in this colab session should now be visible in Drive.')"
      ]
    },
    {
      "cell_type": "markdown",
      "metadata": {
        "id": "7taylj9wpsA2"
      },
      "source": [
        "## PyDrive2\n",
        "\n",
        "The examples below demonstrate authentication and file upload/download using PyDrive2. More examples are available in the [PyDrive2 documentation](https://docs.iterative.ai/PyDrive2/)."
      ]
    },
    {
      "cell_type": "code",
      "execution_count": null,
      "metadata": {
        "id": "zU5b6dlRwUQk"
      },
      "outputs": [],
      "source": [
        "from pydrive2.auth import GoogleAuth\n",
        "from pydrive2.drive import GoogleDrive\n",
        "from google.colab import auth\n",
        "from oauth2client.client import GoogleCredentials"
      ]
    },
    {
      "cell_type": "markdown",
      "metadata": {
        "id": "XkHZtRhm09QS"
      },
      "source": [
        "Authenticate and create the PyDrive2 client.\n"
      ]
    },
    {
      "cell_type": "code",
      "execution_count": null,
      "metadata": {
        "id": "1w7lrGcW08Ds"
      },
      "outputs": [],
      "source": [
        "auth.authenticate_user()\n",
        "gauth = GoogleAuth()\n",
        "gauth.credentials = GoogleCredentials.get_application_default()\n",
        "drive = GoogleDrive(gauth)"
      ]
    },
    {
      "cell_type": "markdown",
      "metadata": {
        "id": "ZF3Topk31DCF"
      },
      "source": [
        "Create and upload a text file.\n"
      ]
    },
    {
      "cell_type": "code",
      "execution_count": null,
      "metadata": {
        "colab": {
          "base_uri": "https://localhost:8080/",
          "height": 34
        },
        "id": "vBuUW-q41tb7",
        "outputId": "e5558ef2-e5db-4e4e-9f01-186e9dd4bc26"
      },
      "outputs": [
        {
          "name": "stdout",
          "output_type": "stream",
          "text": [
            "Uploaded file with ID 14vDAdqp7BSCQnoougmgylBexIr2AQx2T\n"
          ]
        }
      ],
      "source": [
        "uploaded = drive.CreateFile({'title': 'Sample upload.txt'})\n",
        "uploaded.SetContentString('Sample upload file content')\n",
        "uploaded.Upload()\n",
        "print('Uploaded file with ID {}'.format(uploaded.get('id')))"
      ]
    },
    {
      "cell_type": "markdown",
      "metadata": {
        "id": "bbOFN3d_1tcG"
      },
      "source": [
        "Load a file by ID and print its contents.\n"
      ]
    },
    {
      "cell_type": "code",
      "execution_count": null,
      "metadata": {
        "colab": {
          "base_uri": "https://localhost:8080/",
          "height": 34
        },
        "id": "eFOvsAYk1tcH",
        "outputId": "c8f0e09a-f873-4c43-8211-5f0a0c5e0e5f"
      },
      "outputs": [
        {
          "name": "stdout",
          "output_type": "stream",
          "text": [
            "Downloaded content \"Sample upload file content\"\n"
          ]
        }
      ],
      "source": [
        "downloaded = drive.CreateFile({'id': uploaded.get('id')})\n",
        "print('Downloaded content \"{}\"'.format(downloaded.GetContentString()))"
      ]
    },
    {
      "cell_type": "markdown",
      "metadata": {
        "id": "jRQ5_yMcqJiV"
      },
      "source": [
        "## Drive REST API\n",
        "\n",
        "In order to use the Drive API, we must first authenticate and construct an API client.\n"
      ]
    },
    {
      "cell_type": "code",
      "execution_count": null,
      "metadata": {
        "id": "r-exJtdG3XwJ"
      },
      "outputs": [],
      "source": [
        "from google.colab import auth\n",
        "auth.authenticate_user()\n",
        "from googleapiclient.discovery import build\n",
        "drive_service = build('drive', 'v3')"
      ]
    },
    {
      "cell_type": "markdown",
      "metadata": {
        "id": "eDLm7MHQEr2U"
      },
      "source": [
        "With this client, we can use any of the functions in the [Google Drive API reference](https://developers.google.com/drive/v3/reference/). Examples follow.\n"
      ]
    },
    {
      "cell_type": "markdown",
      "metadata": {
        "id": "bRFyEsdfBxJ9"
      },
      "source": [
        "### Creating a new Drive file with data from Python\n",
        "\n",
        "First, create a local file to upload."
      ]
    },
    {
      "cell_type": "code",
      "execution_count": null,
      "metadata": {
        "colab": {
          "base_uri": "https://localhost:8080/",
          "height": 53
        },
        "id": "F1-nafvN-NwW",
        "outputId": "4466d27b-edd0-4ef1-8a10-0e180a231af2"
      },
      "outputs": [
        {
          "name": "stdout",
          "output_type": "stream",
          "text": [
            "/tmp/to_upload.txt contains:\n",
            "my sample file"
          ]
        }
      ],
      "source": [
        "with open('/tmp/to_upload.txt', 'w') as f:\n",
        "  f.write('my sample file')\n",
        "\n",
        "print('/tmp/to_upload.txt contains:')\n",
        "!cat /tmp/to_upload.txt"
      ]
    },
    {
      "cell_type": "markdown",
      "metadata": {
        "id": "r5X77CZ5_G-C"
      },
      "source": [
        "Upload it using the [`files.create`](https://developers.google.com/drive/v3/reference/files/create) method. Further details on uploading files are available in the [developer documentation](https://developers.google.com/drive/v3/web/manage-uploads)."
      ]
    },
    {
      "cell_type": "code",
      "execution_count": null,
      "metadata": {
        "colab": {
          "base_uri": "https://localhost:8080/",
          "height": 35
        },
        "id": "3Jv6jh6HEpP8",
        "outputId": "cfc1186f-68a1-4620-a18f-99bc6d83e82e"
      },
      "outputs": [
        {
          "name": "stdout",
          "output_type": "stream",
          "text": [
            "File ID: 1Cw9CqiyU6zbXFD9ViPZu_3yX-sYF4W17\n"
          ]
        }
      ],
      "source": [
        "from googleapiclient.http import MediaFileUpload\n",
        "\n",
        "file_metadata = {\n",
        "  'name': 'Sample file',\n",
        "  'mimeType': 'text/plain'\n",
        "}\n",
        "media = MediaFileUpload('/tmp/to_upload.txt',\n",
        "                        mimetype='text/plain',\n",
        "                        resumable=True)\n",
        "created = drive_service.files().create(body=file_metadata,\n",
        "                                       media_body=media,\n",
        "                                       fields='id').execute()\n",
        "print('File ID: {}'.format(created.get('id')))"
      ]
    },
    {
      "cell_type": "markdown",
      "metadata": {
        "id": "j5VyISCKFrqU"
      },
      "source": [
        "After executing the cell above, you will see a new file named 'Sample file' at [https://drive.google.com/](https://drive.google.com/)."
      ]
    },
    {
      "cell_type": "markdown",
      "metadata": {
        "id": "P3KX0Sm0E2sF"
      },
      "source": [
        "### Downloading data from a Drive file into Python\n",
        "\n",
        "Download the file we uploaded above."
      ]
    },
    {
      "cell_type": "code",
      "execution_count": null,
      "metadata": {
        "colab": {
          "base_uri": "https://localhost:8080/",
          "height": 34
        },
        "id": "hEzpzWYWsYKg",
        "outputId": "57c1ac51-a8ec-497e-db77-f34fd974ac2f"
      },
      "outputs": [
        {
          "name": "stdout",
          "output_type": "stream",
          "text": [
            "Downloaded file contents are: b'my sample file'\n"
          ]
        }
      ],
      "source": [
        "file_id = created.get('id')\n",
        "\n",
        "import io\n",
        "from googleapiclient.http import MediaIoBaseDownload\n",
        "\n",
        "request = drive_service.files().get_media(fileId=file_id)\n",
        "downloaded = io.BytesIO()\n",
        "downloader = MediaIoBaseDownload(downloaded, request)\n",
        "done = False\n",
        "while done is False:\n",
        "  # _ is a placeholder for a progress object that we ignore.\n",
        "  # (Our file is small, so we skip reporting progress.)\n",
        "  _, done = downloader.next_chunk()\n",
        "\n",
        "downloaded.seek(0)\n",
        "print('Downloaded file contents are: {}'.format(downloaded.read()))"
      ]
    },
    {
      "cell_type": "markdown",
      "metadata": {
        "id": "ImztleG2Ciae"
      },
      "source": [
        "In order to download a different file, set `file_id` above to the ID of that file, which will look like \"1uBtlaggVyWshwcyP6kEI-y_W3P8D26sz\"."
      ]
    },
    {
      "cell_type": "markdown",
      "metadata": {
        "id": "sOm9PFrT8mGG"
      },
      "source": [
        "# Google Sheets\n"
      ]
    },
    {
      "cell_type": "markdown",
      "metadata": {
        "id": "jt1D4Fm-h2aO"
      },
      "source": [
        "## Google Sheets Workspace Extension\n",
        "\n",
        "We have a Workspace Extension, [Sheets to Colab](https://workspace.google.com/u/0/marketplace/app/sheets_to_colab/945625412720), which allows you to directly import data from Google Sheets into Colab from the Sheets UI. Follow the link to the Sheets to Colab Workspace Extension to learn more."
      ]
    },
    {
      "cell_type": "markdown",
      "metadata": {
        "id": "qzi9VsEqzI-o"
      },
      "source": [
        "## Interacting with Google Sheets using gspread\n",
        "\n",
        " You can also use the open-source [`gspread`](https://github.com/burnash/gspread) library to interact with Google Sheets. The code below shows you how to setup and authenticate `gspread`."
      ]
    },
    {
      "cell_type": "code",
      "execution_count": null,
      "metadata": {
        "id": "6d0xJz3VzLOo"
      },
      "outputs": [],
      "source": [
        "from google.colab import auth\n",
        "auth.authenticate_user()\n",
        "\n",
        "import gspread\n",
        "from google.auth import default\n",
        "creds, _ = default()\n",
        "\n",
        "gc = gspread.authorize(creds)"
      ]
    },
    {
      "cell_type": "markdown",
      "metadata": {
        "id": "yjrZQUrt6kKj"
      },
      "source": [
        "Below is a small set of `gspread` examples. Additional examples are available at the [`gspread` GitHub page](https://github.com/burnash/gspread#more-examples)."
      ]
    },
    {
      "cell_type": "markdown",
      "metadata": {
        "id": "WgXqE02UofZG"
      },
      "source": [
        "### Creating a new sheet with data from Python"
      ]
    },
    {
      "cell_type": "code",
      "source": [
        "!pip install pyspark py4j"
      ],
      "metadata": {
        "id": "lrG71mnmD6u1",
        "outputId": "fa822e4b-4d99-47e0-8bbf-21f607192c46",
        "colab": {
          "base_uri": "https://localhost:8080/"
        }
      },
      "execution_count": 1,
      "outputs": [
        {
          "output_type": "stream",
          "name": "stdout",
          "text": [
            "Collecting pyspark\n",
            "  Downloading pyspark-3.5.2.tar.gz (317.3 MB)\n",
            "\u001b[2K     \u001b[90m━━━━━━━━━━━━━━━━━━━━━━━━━━━━━━━━━━━━━━━━\u001b[0m \u001b[32m317.3/317.3 MB\u001b[0m \u001b[31m3.3 MB/s\u001b[0m eta \u001b[36m0:00:00\u001b[0m\n",
            "\u001b[?25h  Preparing metadata (setup.py) ... \u001b[?25l\u001b[?25hdone\n",
            "Requirement already satisfied: py4j in /usr/local/lib/python3.10/dist-packages (0.10.9.7)\n",
            "Building wheels for collected packages: pyspark\n",
            "  Building wheel for pyspark (setup.py) ... \u001b[?25l\u001b[?25hdone\n",
            "  Created wheel for pyspark: filename=pyspark-3.5.2-py2.py3-none-any.whl size=317812365 sha256=367e95a8bc6d2af5284dee72643198e6b759091d94b6df38bf7da706d6881458\n",
            "  Stored in directory: /root/.cache/pip/wheels/34/34/bd/03944534c44b677cd5859f248090daa9fb27b3c8f8e5f49574\n",
            "Successfully built pyspark\n",
            "Installing collected packages: pyspark\n",
            "Successfully installed pyspark-3.5.2\n"
          ]
        }
      ]
    },
    {
      "cell_type": "code",
      "source": [
        "from pyspark.sql import SparkSession\n",
        "from pyspark.sql.functions import desc, asc,column,count,max,when\n",
        "\n",
        "spark=SparkSession.builder.appName(\"test_pyspark\").getOrCreate()\n",
        "\n",
        "\n",
        "# create two dataframes\n",
        "df1 = spark.createDataFrame([(1, \"John\", 25,2500), (2, \"Jane\", 30,3000), (3, \"Jim\", 35,4000)],\n",
        "                           [\"id\", \"name\", \"age\",\"salary\"])\n",
        "df1.show()\n",
        "# second highest salary....sql\n",
        "df1.createOrReplaceTempView(\"SalaryView\")\n",
        "df2=spark.sql(\"select * from (select * from SalaryView order by salary desc limit 2) order by salary asc limit 1\").show()\n",
        "\n",
        "\n",
        "#second highest salary---------dataframe..\n",
        "\n",
        "df3=df1.select(\"id\",\"name\",\"age\",\"salary\").orderBy(column(\"salary\").desc()).limit(2)\n",
        "# Calculate the count and collect the result as a scalar value\n",
        "record_count = df3.count()\n",
        "# Use lit to create a column from the boolean condition\n",
        "df4 = df3.withColumn(\"RecordCnt\", when(lit(record_count > 1), 1).otherwise(None)) # Add a new column with the count if it's greater than 1\n",
        "df4.show()\n",
        "df5=df3.select(\"id\",\"name\",\"age\",\"salary\").orderBy(column(\"salary\").asc()).limit(1)\n",
        "df5.show()"
      ],
      "metadata": {
        "id": "-lPETgu_FEUO",
        "outputId": "a7f54983-5d26-4b43-d8a9-4eaccb2e0ea5",
        "colab": {
          "base_uri": "https://localhost:8080/",
          "height": 471
        }
      },
      "execution_count": 2,
      "outputs": [
        {
          "output_type": "stream",
          "name": "stdout",
          "text": [
            "+---+----+---+------+\n",
            "| id|name|age|salary|\n",
            "+---+----+---+------+\n",
            "|  1|John| 25|  2500|\n",
            "|  2|Jane| 30|  3000|\n",
            "|  3| Jim| 35|  4000|\n",
            "+---+----+---+------+\n",
            "\n",
            "+---+----+---+------+\n",
            "| id|name|age|salary|\n",
            "+---+----+---+------+\n",
            "|  2|Jane| 30|  3000|\n",
            "+---+----+---+------+\n",
            "\n"
          ]
        },
        {
          "output_type": "error",
          "ename": "NameError",
          "evalue": "name 'lit' is not defined",
          "traceback": [
            "\u001b[0;31m---------------------------------------------------------------------------\u001b[0m",
            "\u001b[0;31mNameError\u001b[0m                                 Traceback (most recent call last)",
            "\u001b[0;32m<ipython-input-2-b8c43678180d>\u001b[0m in \u001b[0;36m<cell line: 22>\u001b[0;34m()\u001b[0m\n\u001b[1;32m     20\u001b[0m \u001b[0mrecord_count\u001b[0m \u001b[0;34m=\u001b[0m \u001b[0mdf3\u001b[0m\u001b[0;34m.\u001b[0m\u001b[0mcount\u001b[0m\u001b[0;34m(\u001b[0m\u001b[0;34m)\u001b[0m\u001b[0;34m\u001b[0m\u001b[0;34m\u001b[0m\u001b[0m\n\u001b[1;32m     21\u001b[0m \u001b[0;31m# Use lit to create a column from the boolean condition\u001b[0m\u001b[0;34m\u001b[0m\u001b[0;34m\u001b[0m\u001b[0m\n\u001b[0;32m---> 22\u001b[0;31m \u001b[0mdf4\u001b[0m \u001b[0;34m=\u001b[0m \u001b[0mdf3\u001b[0m\u001b[0;34m.\u001b[0m\u001b[0mwithColumn\u001b[0m\u001b[0;34m(\u001b[0m\u001b[0;34m\"RecordCnt\"\u001b[0m\u001b[0;34m,\u001b[0m \u001b[0mwhen\u001b[0m\u001b[0;34m(\u001b[0m\u001b[0mlit\u001b[0m\u001b[0;34m(\u001b[0m\u001b[0mrecord_count\u001b[0m \u001b[0;34m>\u001b[0m \u001b[0;36m1\u001b[0m\u001b[0;34m)\u001b[0m\u001b[0;34m,\u001b[0m \u001b[0;36m1\u001b[0m\u001b[0;34m)\u001b[0m\u001b[0;34m.\u001b[0m\u001b[0motherwise\u001b[0m\u001b[0;34m(\u001b[0m\u001b[0;32mNone\u001b[0m\u001b[0;34m)\u001b[0m\u001b[0;34m)\u001b[0m \u001b[0;31m# Add a new column with the count if it's greater than 1\u001b[0m\u001b[0;34m\u001b[0m\u001b[0;34m\u001b[0m\u001b[0m\n\u001b[0m\u001b[1;32m     23\u001b[0m \u001b[0mdf4\u001b[0m\u001b[0;34m.\u001b[0m\u001b[0mshow\u001b[0m\u001b[0;34m(\u001b[0m\u001b[0;34m)\u001b[0m\u001b[0;34m\u001b[0m\u001b[0;34m\u001b[0m\u001b[0m\n\u001b[1;32m     24\u001b[0m \u001b[0mdf5\u001b[0m\u001b[0;34m=\u001b[0m\u001b[0mdf3\u001b[0m\u001b[0;34m.\u001b[0m\u001b[0mselect\u001b[0m\u001b[0;34m(\u001b[0m\u001b[0;34m\"id\"\u001b[0m\u001b[0;34m,\u001b[0m\u001b[0;34m\"name\"\u001b[0m\u001b[0;34m,\u001b[0m\u001b[0;34m\"age\"\u001b[0m\u001b[0;34m,\u001b[0m\u001b[0;34m\"salary\"\u001b[0m\u001b[0;34m)\u001b[0m\u001b[0;34m.\u001b[0m\u001b[0morderBy\u001b[0m\u001b[0;34m(\u001b[0m\u001b[0mcolumn\u001b[0m\u001b[0;34m(\u001b[0m\u001b[0;34m\"salary\"\u001b[0m\u001b[0;34m)\u001b[0m\u001b[0;34m.\u001b[0m\u001b[0masc\u001b[0m\u001b[0;34m(\u001b[0m\u001b[0;34m)\u001b[0m\u001b[0;34m)\u001b[0m\u001b[0;34m.\u001b[0m\u001b[0mlimit\u001b[0m\u001b[0;34m(\u001b[0m\u001b[0;36m1\u001b[0m\u001b[0;34m)\u001b[0m\u001b[0;34m\u001b[0m\u001b[0;34m\u001b[0m\u001b[0m\n",
            "\u001b[0;31mNameError\u001b[0m: name 'lit' is not defined"
          ]
        }
      ]
    },
    {
      "source": [
        "from pyspark.sql import SparkSession\n",
        "from pyspark.sql.functions import desc, asc,column,count,max,when,lit,length\n",
        "\n",
        "spark=SparkSession.builder.appName(\"test_pyspark\").getOrCreate()\n",
        "\n",
        "\n",
        "# create two dataframes\n",
        "df1 = spark.createDataFrame([(1, \"John\", 25,2500), (2, \"Jane\", 30,3000), (3, \"Jim\", 35,4000)],\n",
        "                           [\"id\", \"name\", \"age\",\"salary\"])\n",
        "df1.show()\n",
        "# second highest salary....sql\n",
        "df1.createOrReplaceTempView(\"SalaryView\")\n",
        "df2=spark.sql(\"select * from (select * from SalaryView order by salary desc limit 2) order by salary asc limit 1\")\n",
        "\n",
        "\n",
        "#second highest salary---------dataframe..\n",
        "\n",
        "df3=df1.select(\"id\",\"name\",\"age\",\"salary\").orderBy(column(\"salary\").desc()).limit(2)\n",
        "# Calculate the count and collect the result as a scalar value\n",
        "record_count = df3.select(\"id\").count()\n",
        "if  record_count>1:\n",
        "  df3.select(\"id\",\"name\",\"age\",\"salary\").orderBy(column(\"salary\").asc()).limit(1).show()\n",
        "else:\n",
        "  print(\"Null\")\n",
        "\n",
        "\n",
        "#nth highest salary ---\n",
        "employees_Salary = [(\"James\", \"Sales\", 2000),\n",
        "(\"sofy\", \"Sales\", 3000),\n",
        "(\"Laren\", \"Sales\", 4000),\n",
        "(\"Kiku\", \"Sales\", 5000),\n",
        "(\"Sam\", \"Finance\", 6000),\n",
        "(\"Samuel\", \"Finance\", 7000),\n",
        "(\"Yash\", \"Finance\", 8000),\n",
        "(\"Rabin\", \"Finance\", 9000),\n",
        "(\"Lukasz\", \"Marketing\", 10000),\n",
        "(\"Jolly\", \"Marketing\", 11000),\n",
        "(\"Mausam\", \"Marketing\", 12000),\n",
        "(\"Lamba\", \"Marketing\", 13000),\n",
        "(\"Jogesh\", \"HR\", 14000),\n",
        "(\"Mannu\", \"HR\", 15000),\n",
        "(\"Sylvia\", \"HR\", 16000),\n",
        "(\"Sama\", \"HR\", 17000),\n",
        "]\n",
        "\n",
        "employeesDF = spark.createDataFrame(employees_Salary,schema=\"\"\"employee_name STRING, dept_name STRING, salary INTEGER\"\"\")\n",
        "employeesDF.select(\"employee_name\",\"dept_name\",\"salary\",length(\"salary\")).show()\n",
        "\n"
      ],
      "cell_type": "code",
      "metadata": {
        "id": "M8imRcRv8FZ3",
        "outputId": "943d17c8-4444-49ce-db27-59afb66b38b4",
        "colab": {
          "base_uri": "https://localhost:8080/"
        }
      },
      "execution_count": 10,
      "outputs": [
        {
          "output_type": "stream",
          "name": "stdout",
          "text": [
            "+---+----+---+------+\n",
            "| id|name|age|salary|\n",
            "+---+----+---+------+\n",
            "|  1|John| 25|  2500|\n",
            "|  2|Jane| 30|  3000|\n",
            "|  3| Jim| 35|  4000|\n",
            "+---+----+---+------+\n",
            "\n",
            "+---+----+---+------+\n",
            "| id|name|age|salary|\n",
            "+---+----+---+------+\n",
            "|  2|Jane| 30|  3000|\n",
            "+---+----+---+------+\n",
            "\n",
            "+-------------+---------+------+--------------+\n",
            "|employee_name|dept_name|salary|length(salary)|\n",
            "+-------------+---------+------+--------------+\n",
            "|        James|    Sales|  2000|             4|\n",
            "|         sofy|    Sales|  3000|             4|\n",
            "|        Laren|    Sales|  4000|             4|\n",
            "|         Kiku|    Sales|  5000|             4|\n",
            "|          Sam|  Finance|  6000|             4|\n",
            "|       Samuel|  Finance|  7000|             4|\n",
            "|         Yash|  Finance|  8000|             4|\n",
            "|        Rabin|  Finance|  9000|             4|\n",
            "|       Lukasz|Marketing| 10000|             5|\n",
            "|        Jolly|Marketing| 11000|             5|\n",
            "|       Mausam|Marketing| 12000|             5|\n",
            "|        Lamba|Marketing| 13000|             5|\n",
            "|       Jogesh|       HR| 14000|             5|\n",
            "|        Mannu|       HR| 15000|             5|\n",
            "|       Sylvia|       HR| 16000|             5|\n",
            "|         Sama|       HR| 17000|             5|\n",
            "+-------------+---------+------+--------------+\n",
            "\n"
          ]
        }
      ]
    },
    {
      "cell_type": "code",
      "source": [
        "from pyspark.sql import SparkSession\n",
        "from pyspark.sql.functions import desc, asc,column,count,max,when,lit,length\n",
        "\n",
        "spark=SparkSession.builder.appName(\"nthHighestSalary\").getOrCreate()\n",
        "#nth highest salary ---\n",
        "employees_Salary = [(\"James\", \"Sales\", 2000),\n",
        "(\"sofy\", \"Sales\", 3000),\n",
        "(\"Laren\", \"Sales\", 4000),\n",
        "(\"Kiku\", \"Sales\", 5000),\n",
        "(\"Sam\", \"Finance\", 6000),\n",
        "(\"Samuel\", \"Finance\", 7000),\n",
        "(\"Yash\", \"Finance\", 8000),\n",
        "(\"Rabin\", \"Finance\", 9000),\n",
        "(\"Lukasz\", \"Marketing\", 10000),\n",
        "(\"Jolly\", \"Marketing\", 11000),\n",
        "(\"Mausam\", \"Marketing\", 12000),\n",
        "(\"Lamba\", \"Marketing\", 13000),\n",
        "(\"Jogesh\", \"HR\", 14000),\n",
        "(\"Mannu\", \"HR\", 15000),\n",
        "(\"Sylvia\", \"HR\", 16000),\n",
        "(\"Sama\", \"HR\", 17000),\n",
        "]\n",
        "\n",
        "employeesDF = spark.createDataFrame(employees_Salary,schema=\"\"\"employee_name STRING, dept_name STRING, salary INTEGER\"\"\")\n",
        "\n",
        "\n",
        "# nth lowest salary\n",
        "#libraries for window and rank\n",
        "from pyspark.sql.window import Window\n",
        "from pyspark.sql.functions import rank,dense_rank\n",
        "\n",
        "#Create window specification for applying window function\n",
        "windowPartition = Window.partitionBy(\"dept_name\").orderBy(\"salary\")\n",
        "\n",
        "#Apply the window specification\n",
        "employeeDF = employeesDF.withColumn(\"rank\", rank().over(windowPartition))\n",
        "employeeDF.filter(\"rank=1\").show()\n",
        "\n",
        "\n",
        "#nth highest salary\n",
        "WindowPartition=Window.partitionBy(employeesDF.dept_name).orderBy(desc(employeesDF.salary))\n",
        "employeeDF=employeesDF.withColumn(\"rank\",dense_rank().over(WindowPartition))\n",
        "employeeDF.show()\n",
        "employeeDF.filter(\"rank=1\").show()"
      ],
      "metadata": {
        "id": "ZN74Wi6xEw_n",
        "outputId": "47dc4187-af26-4974-d0af-2c56c7b40395",
        "colab": {
          "base_uri": "https://localhost:8080/"
        }
      },
      "execution_count": 16,
      "outputs": [
        {
          "output_type": "stream",
          "name": "stdout",
          "text": [
            "+-------------+---------+------+----+\n",
            "|employee_name|dept_name|salary|rank|\n",
            "+-------------+---------+------+----+\n",
            "|          Sam|  Finance|  6000|   1|\n",
            "|       Jogesh|       HR| 14000|   1|\n",
            "|       Lukasz|Marketing| 10000|   1|\n",
            "|        James|    Sales|  2000|   1|\n",
            "+-------------+---------+------+----+\n",
            "\n",
            "+-------------+---------+------+----+\n",
            "|employee_name|dept_name|salary|rank|\n",
            "+-------------+---------+------+----+\n",
            "|        Rabin|  Finance|  9000|   1|\n",
            "|         Yash|  Finance|  8000|   2|\n",
            "|       Samuel|  Finance|  7000|   3|\n",
            "|          Sam|  Finance|  6000|   4|\n",
            "|         Sama|       HR| 17000|   1|\n",
            "|       Sylvia|       HR| 16000|   2|\n",
            "|        Mannu|       HR| 15000|   3|\n",
            "|       Jogesh|       HR| 14000|   4|\n",
            "|        Lamba|Marketing| 13000|   1|\n",
            "|       Mausam|Marketing| 12000|   2|\n",
            "|        Jolly|Marketing| 11000|   3|\n",
            "|       Lukasz|Marketing| 10000|   4|\n",
            "|         Kiku|    Sales|  5000|   1|\n",
            "|        Laren|    Sales|  4000|   2|\n",
            "|         sofy|    Sales|  3000|   3|\n",
            "|        James|    Sales|  2000|   4|\n",
            "+-------------+---------+------+----+\n",
            "\n",
            "+-------------+---------+------+----+\n",
            "|employee_name|dept_name|salary|rank|\n",
            "+-------------+---------+------+----+\n",
            "|        Rabin|  Finance|  9000|   1|\n",
            "|         Sama|       HR| 17000|   1|\n",
            "|        Lamba|Marketing| 13000|   1|\n",
            "|         Kiku|    Sales|  5000|   1|\n",
            "+-------------+---------+------+----+\n",
            "\n"
          ]
        }
      ]
    }
  ],
  "metadata": {
    "colab": {
      "name": "External data: Local Files, Drive, Sheets, and Cloud Storage",
      "provenance": [],
      "include_colab_link": true
    },
    "kernelspec": {
      "display_name": "Python 3",
      "name": "python3"
    }
  },
  "nbformat": 4,
  "nbformat_minor": 0
}